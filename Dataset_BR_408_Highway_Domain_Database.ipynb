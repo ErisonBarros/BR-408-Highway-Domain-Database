{
  "nbformat": 4,
  "nbformat_minor": 0,
  "metadata": {
    "colab": {
      "name": "Dataset_BR-408-Highway-Domain-Database.ipynb",
      "provenance": [],
      "mount_file_id": "1NPmZ43XWobfQ7WSpPVxLjPlvoA4ZWe6k",
      "authorship_tag": "ABX9TyN0ueUqhv5615UohueOi3Xp",
      "include_colab_link": true
    },
    "kernelspec": {
      "name": "python3",
      "display_name": "Python 3"
    }
  },
  "cells": [
    {
      "cell_type": "markdown",
      "metadata": {
        "id": "view-in-github",
        "colab_type": "text"
      },
      "source": [
        "<a href=\"https://colab.research.google.com/github/ErisonBarros/BR-408-Highway-Domain-Database/blob/gh-pages1/Dataset_BR_408_Highway_Domain_Database.ipynb\" target=\"_parent\"><img src=\"https://colab.research.google.com/assets/colab-badge.svg\" alt=\"Open In Colab\"/></a>"
      ]
    },
    {
      "cell_type": "markdown",
      "metadata": {
        "id": "DWuQE8wIct-o"
      },
      "source": [
        "<!-- README.md is generated from README.Rmd. Please edit that file -->\r\n",
        "\r\n",
        "# TIME-SPACE MODELING OF IRREGULAR OCCUPATIONS AROUND BRAZILIAN HIGHWAYS, BASED ON STATIC GRIDS: CASE STUDY BR-408 CASE STUDY <img src=\"https://github.com/decartlabat/site/blob/master/simbololo%20labat.png\" align=\"right\" width=150/>\r\n",
        "\r\n",
        "## **Universidade Federal de Pernambuco -UFPE**\r\n",
        "**Graduate Program in Civil Engineering**\r\n",
        "\r\n",
        "Rede de Estudos de Engenharia e Socioeconômicos de Transportes\r\n",
        "\r\n",
        "[![License: GPL\r\n",
        "v3](https://img.shields.io/badge/License-GPL%20v3-blue.svg)](http://www.gnu.org/licenses/gpl-3.0)\r\n",
        "\r\n",
        "Collaborators:\r\n",
        "\r\n",
        "> Erison Rosa de Oliveira Barros (UFPE)  https://orcid.org/0000-0003-4879-6880\r\n",
        "\r\n",
        "> Maurício de O. Andrade (UFPE)\r\n",
        "\r\n",
        "> Fernando Lourenço de Souza Júnior (UFPE)  https://orcid.org/0000-0002-6000-149X\r\n",
        "\r\n"
      ]
    },
    {
      "cell_type": "markdown",
      "metadata": {
        "id": "Anknx5nIe06R"
      },
      "source": [
        "\r\n",
        "\r\n",
        "---\r\n",
        "\r\n",
        "\r\n",
        "This repository is for the summary data article entitled \"MODEL TEMPORAL SPACE OF IRREGULAR OCCUPATIONS IN THE BRAZILIAN ROAD SURROUND: BR-408 CASE STUDY\" and can be found at Link . The data set describes the census data of the years 2000 and 2010 , as well as the geospatial data of the limits of the census sectors and the irregular occupations on the BR-408 domain range in the 2018 stretch between Recife and Timbaúba , referring to the BR-Legal program in the state of Pernambuco that is carrying out the Inventory and Monitoring of the Domain Range - IMFD, with the objective of Monitoring Automation through CAD and geoprocessing software (QGIS) and high-resolution imaging.\r\n",
        "\r\n",
        "\r\n",
        "---\r\n",
        "\r\n"
      ]
    },
    {
      "cell_type": "markdown",
      "metadata": {
        "id": "V3QWs6bye5vx"
      },
      "source": [
        "# Highlight: "
      ]
    },
    {
      "cell_type": "markdown",
      "metadata": {
        "id": "ZvODmSvsgJcw"
      },
      "source": [
        "\r\n",
        "\r\n",
        "---\r\n",
        "\r\n",
        "\r\n",
        "\r\n",
        "*   Geospatial Data of the Census Sectors of the Years 2000 and 2010;\r\n",
        "*   Irregular Occupations Data obtained by photointerpretation of satellite images from 2000 and 2010;\r\n",
        "*   Geospatial Data of the Irregular Occupations on the BR-408 Highway Domain Range of the year 2018\r\n",
        "*   Disaggregation and Aggregation of Data from the Census Sectors of the Year 2000 and 2010 in the Statistical Grids;\r\n",
        "*   Normalization of the Geospatial Vector Data aggregated to the Statistical Grid;\r\n",
        "*    Rasterization of the Data in Pixels of Use and Occupation for the Year 2000, 2010 and 2018 obtained by the Dataset of the Mapbiomas Project;\r\n",
        "*   Simulations of variables and Use/Occupation data in the Molusce plugin;\r\n",
        "\r\n",
        "\r\n",
        "\r\n",
        "\r\n",
        "\r\n",
        "\r\n",
        "\r\n",
        "\r\n",
        "\r\n",
        "\r\n",
        "\r\n",
        "\r\n",
        "\r\n",
        "\r\n"
      ]
    },
    {
      "cell_type": "markdown",
      "metadata": {
        "id": "P5xMG0s3hzFv"
      },
      "source": [
        "# Geospatial Data of the Census Sectors of the Years 2000 and 2010;"
      ]
    },
    {
      "cell_type": "markdown",
      "metadata": {
        "id": "9H_ae_5MhPAw"
      },
      "source": [
        "---\r\n",
        "## Oculto\r\n",
        "\r\n",
        "\r\n"
      ]
    },
    {
      "cell_type": "code",
      "metadata": {
        "id": "gIkjBNdW3zaD"
      },
      "source": [
        "!pip install geobr\r\n",
        "!pip install geopandas\r\n",
        "!pip install descartes \r\n",
        "!pip install pyshp\r\n",
        "!pip install pandas\r\n",
        "!pip install folium\r\n",
        "!pip install fiona"
      ],
      "execution_count": null,
      "outputs": []
    },
    {
      "cell_type": "code",
      "metadata": {
        "id": "_6s5vn7HqRXI"
      },
      "source": [
        "pip install fiona"
      ],
      "execution_count": null,
      "outputs": []
    },
    {
      "cell_type": "code",
      "metadata": {
        "id": "BA-WKy0-4dkJ"
      },
      "source": [
        "# Import necessary modules\r\n",
        "import geopandas as gpd"
      ],
      "execution_count": null,
      "outputs": []
    },
    {
      "cell_type": "code",
      "metadata": {
        "id": "eZJCZApLuCJs"
      },
      "source": [
        "import pandas as pd\r\n",
        "import numpy as np"
      ],
      "execution_count": null,
      "outputs": []
    },
    {
      "cell_type": "code",
      "metadata": {
        "id": "9_JM16D14dWS"
      },
      "source": [
        "import folium\r\n",
        "from folium import plugins"
      ],
      "execution_count": null,
      "outputs": []
    },
    {
      "cell_type": "markdown",
      "metadata": {
        "id": "Rsx-NRiq0cV3"
      },
      "source": [
        "## PERNAMBUCO Geospatial Data"
      ]
    },
    {
      "cell_type": "markdown",
      "metadata": {
        "id": "IwW34bUQ8osh"
      },
      "source": [
        "\r\n",
        "**Pernambuco's Location in Relation to Brazil**\r\n",
        "\r\n",
        "![alt text](https://upload.wikimedia.org/wikipedia/commons/thumb/e/e0/Pernambuco_in_Brazil.svg/300px-Pernambuco_in_Brazil.svg.png)\r\n",
        "\r\n",
        "\r\n",
        "**Map of Pernambuco**\r\n",
        "\r\n",
        "![alt text](https://upload.wikimedia.org/wikipedia/commons/0/02/Pernambuco_MesoMicroMunicip.svg)\r\n",
        "\r\n"
      ]
    },
    {
      "cell_type": "markdown",
      "metadata": {
        "id": "t7XtE0yY9ttx"
      },
      "source": [
        "Donwload da Base de Dados do Censodemográfico pelo [Portal dos Instituto Nacional de Geográfia e Estátistica IBGE](https://www.ibge.gov.br/)\r\n",
        "\r\n",
        "Dados Censitários dos Municipios:\r\n",
        "\r\n",
        "\r\n",
        "\r\n",
        "\r\n"
      ]
    },
    {
      "cell_type": "code",
      "metadata": {
        "colab": {
          "base_uri": "https://localhost:8080/",
          "height": 402
        },
        "id": "4DzoRjv93mbE",
        "outputId": "9e2992b5-d360-4b88-b4b3-83cf3015baf0"
      },
      "source": [
        "from geobr import read_municipality\r\n",
        "# Read all municipalities of given state at a given year\r\n",
        "mun = read_municipality(code_muni=\"PE\", year=2010)\r\n",
        "mun"
      ],
      "execution_count": null,
      "outputs": [
        {
          "output_type": "execute_result",
          "data": {
            "text/html": [
              "<div>\n",
              "<style scoped>\n",
              "    .dataframe tbody tr th:only-of-type {\n",
              "        vertical-align: middle;\n",
              "    }\n",
              "\n",
              "    .dataframe tbody tr th {\n",
              "        vertical-align: top;\n",
              "    }\n",
              "\n",
              "    .dataframe thead th {\n",
              "        text-align: right;\n",
              "    }\n",
              "</style>\n",
              "<table border=\"1\" class=\"dataframe\">\n",
              "  <thead>\n",
              "    <tr style=\"text-align: right;\">\n",
              "      <th></th>\n",
              "      <th>code_muni</th>\n",
              "      <th>name_muni</th>\n",
              "      <th>code_state</th>\n",
              "      <th>abbrev_state</th>\n",
              "      <th>geometry</th>\n",
              "    </tr>\n",
              "  </thead>\n",
              "  <tbody>\n",
              "    <tr>\n",
              "      <th>0</th>\n",
              "      <td>2600054.0</td>\n",
              "      <td>Abreu E Lima</td>\n",
              "      <td>26</td>\n",
              "      <td>PE</td>\n",
              "      <td>POLYGON ((-34.89651 -7.91786, -34.89544 -7.920...</td>\n",
              "    </tr>\n",
              "    <tr>\n",
              "      <th>1</th>\n",
              "      <td>2600104.0</td>\n",
              "      <td>Afogados Da Ingazeira</td>\n",
              "      <td>26</td>\n",
              "      <td>PE</td>\n",
              "      <td>POLYGON ((-37.68470 -7.61454, -37.68076 -7.613...</td>\n",
              "    </tr>\n",
              "    <tr>\n",
              "      <th>2</th>\n",
              "      <td>2600203.0</td>\n",
              "      <td>Afrânio</td>\n",
              "      <td>26</td>\n",
              "      <td>PE</td>\n",
              "      <td>POLYGON ((-40.90285 -8.42345, -40.90129 -8.420...</td>\n",
              "    </tr>\n",
              "    <tr>\n",
              "      <th>3</th>\n",
              "      <td>2600302.0</td>\n",
              "      <td>Agrestina</td>\n",
              "      <td>26</td>\n",
              "      <td>PE</td>\n",
              "      <td>POLYGON ((-35.96779 -8.35831, -35.94473 -8.358...</td>\n",
              "    </tr>\n",
              "    <tr>\n",
              "      <th>4</th>\n",
              "      <td>2600401.0</td>\n",
              "      <td>Água Preta</td>\n",
              "      <td>26</td>\n",
              "      <td>PE</td>\n",
              "      <td>POLYGON ((-35.36990 -8.71984, -35.34160 -8.724...</td>\n",
              "    </tr>\n",
              "    <tr>\n",
              "      <th>...</th>\n",
              "      <td>...</td>\n",
              "      <td>...</td>\n",
              "      <td>...</td>\n",
              "      <td>...</td>\n",
              "      <td>...</td>\n",
              "    </tr>\n",
              "    <tr>\n",
              "      <th>180</th>\n",
              "      <td>2616183.0</td>\n",
              "      <td>Vertente Do Lério</td>\n",
              "      <td>26</td>\n",
              "      <td>PE</td>\n",
              "      <td>POLYGON ((-35.82032 -7.74878, -35.81057 -7.745...</td>\n",
              "    </tr>\n",
              "    <tr>\n",
              "      <th>181</th>\n",
              "      <td>2616209.0</td>\n",
              "      <td>Vertentes</td>\n",
              "      <td>26</td>\n",
              "      <td>PE</td>\n",
              "      <td>POLYGON ((-36.00621 -7.81787, -36.00201 -7.816...</td>\n",
              "    </tr>\n",
              "    <tr>\n",
              "      <th>182</th>\n",
              "      <td>2616308.0</td>\n",
              "      <td>Vicência</td>\n",
              "      <td>26</td>\n",
              "      <td>PE</td>\n",
              "      <td>POLYGON ((-35.42599 -7.71497, -35.44567 -7.692...</td>\n",
              "    </tr>\n",
              "    <tr>\n",
              "      <th>183</th>\n",
              "      <td>2616407.0</td>\n",
              "      <td>Vitória De Santo Antão</td>\n",
              "      <td>26</td>\n",
              "      <td>PE</td>\n",
              "      <td>POLYGON ((-35.23128 -8.03220, -35.22802 -8.031...</td>\n",
              "    </tr>\n",
              "    <tr>\n",
              "      <th>184</th>\n",
              "      <td>2616506.0</td>\n",
              "      <td>Xexéu</td>\n",
              "      <td>26</td>\n",
              "      <td>PE</td>\n",
              "      <td>POLYGON ((-35.64611 -8.78445, -35.60630 -8.775...</td>\n",
              "    </tr>\n",
              "  </tbody>\n",
              "</table>\n",
              "<p>185 rows × 5 columns</p>\n",
              "</div>"
            ],
            "text/plain": [
              "     code_muni  ...                                           geometry\n",
              "0    2600054.0  ...  POLYGON ((-34.89651 -7.91786, -34.89544 -7.920...\n",
              "1    2600104.0  ...  POLYGON ((-37.68470 -7.61454, -37.68076 -7.613...\n",
              "2    2600203.0  ...  POLYGON ((-40.90285 -8.42345, -40.90129 -8.420...\n",
              "3    2600302.0  ...  POLYGON ((-35.96779 -8.35831, -35.94473 -8.358...\n",
              "4    2600401.0  ...  POLYGON ((-35.36990 -8.71984, -35.34160 -8.724...\n",
              "..         ...  ...                                                ...\n",
              "180  2616183.0  ...  POLYGON ((-35.82032 -7.74878, -35.81057 -7.745...\n",
              "181  2616209.0  ...  POLYGON ((-36.00621 -7.81787, -36.00201 -7.816...\n",
              "182  2616308.0  ...  POLYGON ((-35.42599 -7.71497, -35.44567 -7.692...\n",
              "183  2616407.0  ...  POLYGON ((-35.23128 -8.03220, -35.22802 -8.031...\n",
              "184  2616506.0  ...  POLYGON ((-35.64611 -8.78445, -35.60630 -8.775...\n",
              "\n",
              "[185 rows x 5 columns]"
            ]
          },
          "metadata": {
            "tags": []
          },
          "execution_count": 10
        }
      ]
    },
    {
      "cell_type": "markdown",
      "metadata": {
        "id": "dpxL-ha_PNZK"
      },
      "source": [
        "**Area of Influence of BR-408 Highway on the mesh of Pernambuco Municipalities**"
      ]
    },
    {
      "cell_type": "markdown",
      "metadata": {
        "id": "fOI1Zw6PLw7D"
      },
      "source": [
        "<a href=\"https://ibb.co/C5Z7PYz\"><img src=\"https://i.ibb.co/wNXWcPR/Map-of-Highway-BR408-x-Municipios-Pernambucanos.png\" alt=\"Map-of-Highway-BR408-x-Municipios-Pernambucanos\" border=\"0\"></a>"
      ]
    },
    {
      "cell_type": "markdown",
      "metadata": {
        "id": "0dtn435qTPA6"
      },
      "source": [
        "**Área de Influencia da Rodovia BR-408 sobre os Setores Censitários**"
      ]
    },
    {
      "cell_type": "markdown",
      "metadata": {
        "id": "7Q0_iPFEO1p9"
      },
      "source": [
        "<img src=\"https://i.ibb.co/5c8v0cW/Map-of-Highway-BR408-x-Census-Sectors.png\" alt=\"Map-of-Highway-BR408-x-Census-Sectors\" border=\"0\">"
      ]
    },
    {
      "cell_type": "markdown",
      "metadata": {
        "id": "MOfFaemhWems"
      },
      "source": [
        "**To access the dataset of the Static Grids**\r\n",
        "https://mapasinterativos.ibge.gov.br/grade/default.html"
      ]
    },
    {
      "cell_type": "markdown",
      "metadata": {
        "id": "Tb_EkJstXHZ7"
      },
      "source": [
        "<img src=\"https://i.ibb.co/N39sZc0/Map-of-Highway-BR408-x-Statistical-grid-on-the-area-of-Influence.png\" alt=\"Map-of-Highway-BR408-x-Statistical-grid-on-the-area-of-Influence\" border=\"0\">"
      ]
    },
    {
      "cell_type": "markdown",
      "metadata": {
        "id": "oyj_82AuZMkz"
      },
      "source": [
        "To access the statistical grid:\r\n",
        "https://cnae.ibge.gov.br/en/estrutura/natjur-estrutura/77-mapas/mapas-interativos/8537-grade-estatistica.html"
      ]
    },
    {
      "cell_type": "markdown",
      "metadata": {
        "id": "KkoBNa-uAomZ"
      },
      "source": [
        "# Irregular Occupations Data obtained by photointerpretation of satellite images from 2000 and 2010;"
      ]
    },
    {
      "cell_type": "markdown",
      "metadata": {
        "id": "GCDLgXc-fKHM"
      },
      "source": [
        "**Irregular Occupations on the Highway's Domain Track in 2000**"
      ]
    },
    {
      "cell_type": "markdown",
      "metadata": {
        "id": "dlZP7xCiILh6"
      },
      "source": [
        "<img src=\"https://i.ibb.co/zR7T3yr/Map-of-Highway-BR408-x-Irregular-Occupations-on-the-Highway-year-2000.png\" alt=\"Map-of-Highway-BR408-x-Irregular-Occupations-on-the-Highway-year-2000\" border=\"0\">"
      ]
    },
    {
      "cell_type": "markdown",
      "metadata": {
        "id": "E0meIQAHfX2j"
      },
      "source": [
        "**Irregular Occupations on the Highway's Domain Track in 2010**"
      ]
    },
    {
      "cell_type": "markdown",
      "metadata": {
        "id": "OX6Cn-8lfXmE"
      },
      "source": [
        "<img src=\"https://i.ibb.co/LYSqbgc/Map-of-Highway-BR408-x-Irregular-Occupations-on-the-Highway-year-2010.png\" alt=\"Map-of-Highway-BR408-x-Irregular-Occupations-on-the-Highway-year-2010\" border=\"0\">"
      ]
    },
    {
      "cell_type": "markdown",
      "metadata": {
        "id": "f6wFXM_0lkTU"
      },
      "source": [
        "### Oculto"
      ]
    },
    {
      "cell_type": "code",
      "metadata": {
        "id": "ajZ-ar9j6WjT"
      },
      "source": [
        "pip install ggplot\r\n"
      ],
      "execution_count": null,
      "outputs": []
    },
    {
      "cell_type": "code",
      "metadata": {
        "id": "UdWEEtDT8G5z"
      },
      "source": [
        "pip install plotnine"
      ],
      "execution_count": null,
      "outputs": []
    },
    {
      "cell_type": "code",
      "metadata": {
        "id": "NTgb1o-7pR5Z"
      },
      "source": [
        "from geopandas import GeoDataFrame\r\n",
        "import pandas as pd\r\n",
        "from plotnine import *\r\n",
        "%matplotlib inline"
      ],
      "execution_count": null,
      "outputs": []
    },
    {
      "cell_type": "code",
      "metadata": {
        "id": "ng1H72Z9vgtq"
      },
      "source": [
        "import geopandas as gpd\r\n",
        "import matplotlib.pyplot as plt\r\n",
        "\r\n",
        "shapefile = gpd.read_file(\"/content/26MUE250GC_SIR.shp\")\r\n",
        "print(shapefile)\r\n",
        "print(shapefile.head())\r\n",
        "shapefile.plot()\r\n",
        "plt.show()"
      ],
      "execution_count": null,
      "outputs": []
    },
    {
      "cell_type": "code",
      "metadata": {
        "id": "zA0nkb9b2mWw"
      },
      "source": [
        "import numpy as np \r\n",
        "import pandas as pd \r\n",
        "import shapefile as shp \r\n",
        "import matplotlib.pyplot as plt \r\n",
        "import seaborn as sns"
      ],
      "execution_count": null,
      "outputs": []
    },
    {
      "cell_type": "code",
      "metadata": {
        "id": "9SOptHYk20gf"
      },
      "source": [
        "# Inicializando o conjunto de visualização\r\n",
        "% matplotlib inline"
      ],
      "execution_count": null,
      "outputs": []
    },
    {
      "cell_type": "markdown",
      "metadata": {
        "id": "UkctffBNkB3-"
      },
      "source": [
        "#Geospatial Data of the Irregular Occupations on the BR-408 Highway Domain Range of the year 2018"
      ]
    },
    {
      "cell_type": "markdown",
      "metadata": {
        "id": "bM2C9WCtIL5j"
      },
      "source": [
        "**Irregular Occupations on the Highway's Domain Track in 2018**\r\n",
        "\r\n"
      ]
    },
    {
      "cell_type": "markdown",
      "metadata": {
        "id": "fgqCRMBXILwa"
      },
      "source": [
        "<img src=\"https://i.ibb.co/7WfmPr6/Map-of-Highway-BR408-x-Irregular-Occupations-on-the-Highway-year-2018.png\" alt=\"Map-of-Highway-BR408-x-Irregular-Occupations-on-the-Highway-year-2018\" border=\"0\">"
      ]
    },
    {
      "cell_type": "markdown",
      "metadata": {
        "id": "9cZjaLGDkkJG"
      },
      "source": [
        "## Geospatial Data of Irregular Occupations on the Domain Range"
      ]
    },
    {
      "cell_type": "code",
      "metadata": {
        "colab": {
          "base_uri": "https://localhost:8080/"
        },
        "id": "O8E6HN7KnoVx",
        "outputId": "40a857b1-5c7d-43dd-ed6b-340a012e4a64"
      },
      "source": [
        "# Read file using gpd.read_file()\r\n",
        "shapefile = gpd.read_file('/content/Centroide_Edif_20018.shp')\r\n",
        "type(shapefile)"
      ],
      "execution_count": null,
      "outputs": [
        {
          "output_type": "execute_result",
          "data": {
            "text/plain": [
              "geopandas.geodataframe.GeoDataFrame"
            ]
          },
          "metadata": {
            "tags": []
          },
          "execution_count": 103
        }
      ]
    },
    {
      "cell_type": "code",
      "metadata": {
        "id": "Bvf2B0IanPdK"
      },
      "source": [
        "shapefile = shapefile.to_crs( crs='SIRGAS2000', epsg=4618, inplace=False)"
      ],
      "execution_count": null,
      "outputs": []
    },
    {
      "cell_type": "code",
      "metadata": {
        "colab": {
          "base_uri": "https://localhost:8080/"
        },
        "id": "JoxWGlBij1iZ",
        "outputId": "c86adcc2-b34b-4f98-e131-c0300fb3ebcf"
      },
      "source": [
        "print(\"Loading Shapefile...\")"
      ],
      "execution_count": null,
      "outputs": [
        {
          "output_type": "stream",
          "text": [
            "Loading Shapefile...\n"
          ],
          "name": "stdout"
        }
      ]
    },
    {
      "cell_type": "code",
      "metadata": {
        "id": "W7ZOGtvBxBSh",
        "colab": {
          "base_uri": "https://localhost:8080/",
          "height": 383
        },
        "outputId": "41c6fa26-a911-486a-80d1-0c144b697694"
      },
      "source": [
        "Ocup_2018 = GeoDataFrame.from_file('/content/Centroide_Edif_20018.shp')\r\n",
        "Ocup_2018.head(5)"
      ],
      "execution_count": null,
      "outputs": [
        {
          "output_type": "execute_result",
          "data": {
            "text/html": [
              "<div>\n",
              "<style scoped>\n",
              "    .dataframe tbody tr th:only-of-type {\n",
              "        vertical-align: middle;\n",
              "    }\n",
              "\n",
              "    .dataframe tbody tr th {\n",
              "        vertical-align: top;\n",
              "    }\n",
              "\n",
              "    .dataframe thead th {\n",
              "        text-align: right;\n",
              "    }\n",
              "</style>\n",
              "<table border=\"1\" class=\"dataframe\">\n",
              "  <thead>\n",
              "    <tr style=\"text-align: right;\">\n",
              "      <th></th>\n",
              "      <th>id</th>\n",
              "      <th>fid</th>\n",
              "      <th>rodovia</th>\n",
              "      <th>snv</th>\n",
              "      <th>km</th>\n",
              "      <th>lado</th>\n",
              "      <th>dist_eixo</th>\n",
              "      <th>tipo</th>\n",
              "      <th>area</th>\n",
              "      <th>natureza</th>\n",
              "      <th>p_constr</th>\n",
              "      <th>n_pessoas</th>\n",
              "      <th>situacao</th>\n",
              "      <th>contrato</th>\n",
              "      <th>data_apro</th>\n",
              "      <th>portaria</th>\n",
              "      <th>data_ass</th>\n",
              "      <th>data_os</th>\n",
              "      <th>sit_obra</th>\n",
              "      <th>tipo_prop</th>\n",
              "      <th>obs</th>\n",
              "      <th>coordx</th>\n",
              "      <th>coordy</th>\n",
              "      <th>geometry</th>\n",
              "    </tr>\n",
              "  </thead>\n",
              "  <tbody>\n",
              "    <tr>\n",
              "      <th>0</th>\n",
              "      <td>1</td>\n",
              "      <td>1.0</td>\n",
              "      <td>BR-408/PE\\n</td>\n",
              "      <td>408BPE0130\\n</td>\n",
              "      <td>34,638</td>\n",
              "      <td>Direito\\n</td>\n",
              "      <td>19,449 m</td>\n",
              "      <td>Edificada</td>\n",
              "      <td>248.151</td>\n",
              "      <td>Comercial\\n</td>\n",
              "      <td>Alvenaria / Concreto\\n</td>\n",
              "      <td>None</td>\n",
              "      <td>Irregular\\n</td>\n",
              "      <td>None</td>\n",
              "      <td>None</td>\n",
              "      <td>None</td>\n",
              "      <td>None</td>\n",
              "      <td>None</td>\n",
              "      <td>Concluída\\n</td>\n",
              "      <td>Pessoa juridica\\n</td>\n",
              "      <td>Motel Adventury\\n</td>\n",
              "      <td>252874.0</td>\n",
              "      <td>9158197.0</td>\n",
              "      <td>POINT (252873.848 9158223.333)</td>\n",
              "    </tr>\n",
              "    <tr>\n",
              "      <th>1</th>\n",
              "      <td>2</td>\n",
              "      <td>2.0</td>\n",
              "      <td>BR-408/PE\\n</td>\n",
              "      <td>408BPE0130\\n</td>\n",
              "      <td>36,940</td>\n",
              "      <td>Direito</td>\n",
              "      <td>21,834 m</td>\n",
              "      <td>Edificada\\n</td>\n",
              "      <td>27.689</td>\n",
              "      <td>Residencial \\n</td>\n",
              "      <td>Alvenaria / Concreto\\n</td>\n",
              "      <td>None</td>\n",
              "      <td>Irregular\\n</td>\n",
              "      <td>None</td>\n",
              "      <td>None</td>\n",
              "      <td>None</td>\n",
              "      <td>None</td>\n",
              "      <td>None</td>\n",
              "      <td>Concluída\\n</td>\n",
              "      <td>Pessoa fisica\\n</td>\n",
              "      <td>Casa 7\\n</td>\n",
              "      <td>252219.0</td>\n",
              "      <td>9156205.0</td>\n",
              "      <td>POINT (252216.527 9156200.981)</td>\n",
              "    </tr>\n",
              "    <tr>\n",
              "      <th>2</th>\n",
              "      <td>3</td>\n",
              "      <td>3.0</td>\n",
              "      <td>BR-408/PE\\n</td>\n",
              "      <td>408BPE0130\\n</td>\n",
              "      <td>36,940</td>\n",
              "      <td>Esquerdo</td>\n",
              "      <td>23,077 m</td>\n",
              "      <td>Edificada\\n</td>\n",
              "      <td>10.480</td>\n",
              "      <td>Residencial \\n</td>\n",
              "      <td>Alvenaria / Concreto\\n</td>\n",
              "      <td>None</td>\n",
              "      <td>Irregular\\n</td>\n",
              "      <td>None</td>\n",
              "      <td>None</td>\n",
              "      <td>None</td>\n",
              "      <td>None</td>\n",
              "      <td>None</td>\n",
              "      <td>Concluída\\n</td>\n",
              "      <td>Pessoa fisica\\n</td>\n",
              "      <td>Casa 2</td>\n",
              "      <td>252235.0</td>\n",
              "      <td>9156154.0</td>\n",
              "      <td>POINT (252229.227 9156150.923)</td>\n",
              "    </tr>\n",
              "    <tr>\n",
              "      <th>3</th>\n",
              "      <td>4</td>\n",
              "      <td>4.0</td>\n",
              "      <td>BR-408/PE\\n</td>\n",
              "      <td>408BPE0130\\n</td>\n",
              "      <td>36,940</td>\n",
              "      <td>Esquerdo</td>\n",
              "      <td>23,180 m</td>\n",
              "      <td>Edificada\\n</td>\n",
              "      <td>14.428</td>\n",
              "      <td>Residencial \\n</td>\n",
              "      <td>Alvenaria / Concreto\\n</td>\n",
              "      <td>None</td>\n",
              "      <td>Irregular\\n</td>\n",
              "      <td>None</td>\n",
              "      <td>None</td>\n",
              "      <td>None</td>\n",
              "      <td>None</td>\n",
              "      <td>None</td>\n",
              "      <td>Concluída\\n</td>\n",
              "      <td>Pessoa fisica\\n</td>\n",
              "      <td>Casa 3</td>\n",
              "      <td>252219.0</td>\n",
              "      <td>9156142.0</td>\n",
              "      <td>POINT (252221.064 9156145.273)</td>\n",
              "    </tr>\n",
              "    <tr>\n",
              "      <th>4</th>\n",
              "      <td>5</td>\n",
              "      <td>5.0</td>\n",
              "      <td>BR-408/PE\\n</td>\n",
              "      <td>408BPE0130\\n</td>\n",
              "      <td>36,940</td>\n",
              "      <td>Esquerdo</td>\n",
              "      <td>20,667 m</td>\n",
              "      <td>Edificada\\n</td>\n",
              "      <td>26.391</td>\n",
              "      <td>Residencial \\n</td>\n",
              "      <td>Alvenaria / Concreto\\n</td>\n",
              "      <td>None</td>\n",
              "      <td>Irregular\\n</td>\n",
              "      <td>None</td>\n",
              "      <td>None</td>\n",
              "      <td>None</td>\n",
              "      <td>None</td>\n",
              "      <td>None</td>\n",
              "      <td>Concluída\\n</td>\n",
              "      <td>Pessoa fisica\\n</td>\n",
              "      <td>Casa 4</td>\n",
              "      <td>252212.0</td>\n",
              "      <td>9156138.0</td>\n",
              "      <td>POINT (252213.939 9156141.154)</td>\n",
              "    </tr>\n",
              "  </tbody>\n",
              "</table>\n",
              "</div>"
            ],
            "text/plain": [
              "   id  fid      rodovia  ...    coordx     coordy                        geometry\n",
              "0   1  1.0  BR-408/PE\\n  ...  252874.0  9158197.0  POINT (252873.848 9158223.333)\n",
              "1   2  2.0  BR-408/PE\\n  ...  252219.0  9156205.0  POINT (252216.527 9156200.981)\n",
              "2   3  3.0  BR-408/PE\\n  ...  252235.0  9156154.0  POINT (252229.227 9156150.923)\n",
              "3   4  4.0  BR-408/PE\\n  ...  252219.0  9156142.0  POINT (252221.064 9156145.273)\n",
              "4   5  5.0  BR-408/PE\\n  ...  252212.0  9156138.0  POINT (252213.939 9156141.154)\n",
              "\n",
              "[5 rows x 24 columns]"
            ]
          },
          "metadata": {
            "tags": []
          },
          "execution_count": 117
        }
      ]
    },
    {
      "cell_type": "markdown",
      "metadata": {
        "id": "gYHhF-YI-j2s"
      },
      "source": [
        "# Disaggregation and Aggregation of Data from the Census Sectors of the Year 2000 and 2010 in the Statistical Grids;\r\n",
        "\r\n"
      ]
    },
    {
      "cell_type": "markdown",
      "metadata": {
        "id": "nqY3KQV3TcfZ"
      },
      "source": [
        "**Reading of the BR-408 influence grids**"
      ]
    },
    {
      "cell_type": "code",
      "metadata": {
        "colab": {
          "base_uri": "https://localhost:8080/",
          "height": 422
        },
        "id": "QjMATG20VOvy",
        "outputId": "033511ac-3355-45c0-99b9-1b72a03765e3"
      },
      "source": [
        "grid=pd.read_csv('/content/grid_estastistico.csv')\r\n",
        "grid"
      ],
      "execution_count": null,
      "outputs": [
        {
          "output_type": "execute_result",
          "data": {
            "text/html": [
              "<div>\n",
              "<style scoped>\n",
              "    .dataframe tbody tr th:only-of-type {\n",
              "        vertical-align: middle;\n",
              "    }\n",
              "\n",
              "    .dataframe tbody tr th {\n",
              "        vertical-align: top;\n",
              "    }\n",
              "\n",
              "    .dataframe thead th {\n",
              "        text-align: right;\n",
              "    }\n",
              "</style>\n",
              "<table border=\"1\" class=\"dataframe\">\n",
              "  <thead>\n",
              "    <tr style=\"text-align: right;\">\n",
              "      <th></th>\n",
              "      <th>ID_UNICO</th>\n",
              "      <th>MASC</th>\n",
              "      <th>FEM</th>\n",
              "      <th>POP</th>\n",
              "      <th>DOM_OCU</th>\n",
              "      <th>Count_</th>\n",
              "      <th>ocorr_2010</th>\n",
              "      <th>ocorr_2000</th>\n",
              "      <th>ID_UNICO_1</th>\n",
              "      <th>P_AGUA_10</th>\n",
              "      <th>P_ESG_10</th>\n",
              "      <th>P_LIXO_10</th>\n",
              "      <th>RNMPr_10</th>\n",
              "      <th>V1_10G</th>\n",
              "      <th>V3_10G</th>\n",
              "      <th>V4_10G</th>\n",
              "      <th>V5_10G</th>\n",
              "      <th>V7_10G</th>\n",
              "      <th>V8_10G</th>\n",
              "      <th>V21_10G</th>\n",
              "      <th>V22_10G</th>\n",
              "      <th>P_ALFC_10G</th>\n",
              "      <th>P_ALFP_10G</th>\n",
              "      <th>RPC_10G</th>\n",
              "      <th>area</th>\n",
              "      <th>perimeter</th>\n",
              "      <th>Densid</th>\n",
              "    </tr>\n",
              "  </thead>\n",
              "  <tbody>\n",
              "    <tr>\n",
              "      <th>0</th>\n",
              "      <td>200ME70340N104332</td>\n",
              "      <td>0</td>\n",
              "      <td>0</td>\n",
              "      <td>0</td>\n",
              "      <td>0</td>\n",
              "      <td>0</td>\n",
              "      <td>1</td>\n",
              "      <td>1</td>\n",
              "      <td>200ME70340N104332</td>\n",
              "      <td>0.000000</td>\n",
              "      <td>0</td>\n",
              "      <td>0.000000</td>\n",
              "      <td>0.000000</td>\n",
              "      <td>0.000000</td>\n",
              "      <td>0.000000</td>\n",
              "      <td>0.000000</td>\n",
              "      <td>0.000000</td>\n",
              "      <td>0.000000</td>\n",
              "      <td>0.000000</td>\n",
              "      <td>0.000000</td>\n",
              "      <td>0.000000</td>\n",
              "      <td>0.000000</td>\n",
              "      <td>0.000000</td>\n",
              "      <td>0.000000</td>\n",
              "      <td>4.003364e+04</td>\n",
              "      <td>800.394844</td>\n",
              "      <td>0.0</td>\n",
              "    </tr>\n",
              "    <tr>\n",
              "      <th>1</th>\n",
              "      <td>200ME70342N104332</td>\n",
              "      <td>0</td>\n",
              "      <td>0</td>\n",
              "      <td>0</td>\n",
              "      <td>0</td>\n",
              "      <td>0</td>\n",
              "      <td>1</td>\n",
              "      <td>1</td>\n",
              "      <td>200ME70342N104332</td>\n",
              "      <td>0.000000</td>\n",
              "      <td>0</td>\n",
              "      <td>0.000000</td>\n",
              "      <td>0.000000</td>\n",
              "      <td>0.000000</td>\n",
              "      <td>0.000000</td>\n",
              "      <td>0.000000</td>\n",
              "      <td>0.000000</td>\n",
              "      <td>0.000000</td>\n",
              "      <td>0.000000</td>\n",
              "      <td>0.000000</td>\n",
              "      <td>0.000000</td>\n",
              "      <td>0.000000</td>\n",
              "      <td>0.000000</td>\n",
              "      <td>0.000000</td>\n",
              "      <td>4.003354e+04</td>\n",
              "      <td>800.393884</td>\n",
              "      <td>0.0</td>\n",
              "    </tr>\n",
              "    <tr>\n",
              "      <th>2</th>\n",
              "      <td>200ME70344N104332</td>\n",
              "      <td>0</td>\n",
              "      <td>0</td>\n",
              "      <td>0</td>\n",
              "      <td>0</td>\n",
              "      <td>0</td>\n",
              "      <td>1</td>\n",
              "      <td>1</td>\n",
              "      <td>200ME70344N104332</td>\n",
              "      <td>0.000000</td>\n",
              "      <td>0</td>\n",
              "      <td>0.000000</td>\n",
              "      <td>0.000000</td>\n",
              "      <td>0.000000</td>\n",
              "      <td>0.000000</td>\n",
              "      <td>0.000000</td>\n",
              "      <td>0.000000</td>\n",
              "      <td>0.000000</td>\n",
              "      <td>0.000000</td>\n",
              "      <td>0.000000</td>\n",
              "      <td>0.000000</td>\n",
              "      <td>0.000000</td>\n",
              "      <td>0.000000</td>\n",
              "      <td>0.000000</td>\n",
              "      <td>4.003346e+04</td>\n",
              "      <td>800.393018</td>\n",
              "      <td>0.0</td>\n",
              "    </tr>\n",
              "    <tr>\n",
              "      <th>3</th>\n",
              "      <td>200ME70346N104332</td>\n",
              "      <td>0</td>\n",
              "      <td>0</td>\n",
              "      <td>0</td>\n",
              "      <td>0</td>\n",
              "      <td>0</td>\n",
              "      <td>1</td>\n",
              "      <td>1</td>\n",
              "      <td>200ME70346N104332</td>\n",
              "      <td>0.000000</td>\n",
              "      <td>0</td>\n",
              "      <td>0.000000</td>\n",
              "      <td>0.000000</td>\n",
              "      <td>0.000000</td>\n",
              "      <td>0.000000</td>\n",
              "      <td>0.000000</td>\n",
              "      <td>0.000000</td>\n",
              "      <td>0.000000</td>\n",
              "      <td>0.000000</td>\n",
              "      <td>0.000000</td>\n",
              "      <td>0.000000</td>\n",
              "      <td>0.000000</td>\n",
              "      <td>0.000000</td>\n",
              "      <td>0.000000</td>\n",
              "      <td>4.003334e+04</td>\n",
              "      <td>800.391849</td>\n",
              "      <td>0.0</td>\n",
              "    </tr>\n",
              "    <tr>\n",
              "      <th>4</th>\n",
              "      <td>200ME70348N104332</td>\n",
              "      <td>0</td>\n",
              "      <td>0</td>\n",
              "      <td>0</td>\n",
              "      <td>0</td>\n",
              "      <td>0</td>\n",
              "      <td>1</td>\n",
              "      <td>1</td>\n",
              "      <td>200ME70348N104332</td>\n",
              "      <td>0.000000</td>\n",
              "      <td>0</td>\n",
              "      <td>0.000000</td>\n",
              "      <td>0.000000</td>\n",
              "      <td>0.000000</td>\n",
              "      <td>0.000000</td>\n",
              "      <td>0.000000</td>\n",
              "      <td>0.000000</td>\n",
              "      <td>0.000000</td>\n",
              "      <td>0.000000</td>\n",
              "      <td>0.000000</td>\n",
              "      <td>0.000000</td>\n",
              "      <td>0.000000</td>\n",
              "      <td>0.000000</td>\n",
              "      <td>0.000000</td>\n",
              "      <td>4.003322e+04</td>\n",
              "      <td>800.390680</td>\n",
              "      <td>0.0</td>\n",
              "    </tr>\n",
              "    <tr>\n",
              "      <th>...</th>\n",
              "      <td>...</td>\n",
              "      <td>...</td>\n",
              "      <td>...</td>\n",
              "      <td>...</td>\n",
              "      <td>...</td>\n",
              "      <td>...</td>\n",
              "      <td>...</td>\n",
              "      <td>...</td>\n",
              "      <td>...</td>\n",
              "      <td>...</td>\n",
              "      <td>...</td>\n",
              "      <td>...</td>\n",
              "      <td>...</td>\n",
              "      <td>...</td>\n",
              "      <td>...</td>\n",
              "      <td>...</td>\n",
              "      <td>...</td>\n",
              "      <td>...</td>\n",
              "      <td>...</td>\n",
              "      <td>...</td>\n",
              "      <td>...</td>\n",
              "      <td>...</td>\n",
              "      <td>...</td>\n",
              "      <td>...</td>\n",
              "      <td>...</td>\n",
              "      <td>...</td>\n",
              "      <td>...</td>\n",
              "    </tr>\n",
              "    <tr>\n",
              "      <th>11183</th>\n",
              "      <td>1KME7061N10386</td>\n",
              "      <td>15</td>\n",
              "      <td>14</td>\n",
              "      <td>29</td>\n",
              "      <td>4</td>\n",
              "      <td>0</td>\n",
              "      <td>1</td>\n",
              "      <td>1</td>\n",
              "      <td>1KME7061N10386</td>\n",
              "      <td>0.957023</td>\n",
              "      <td>0,28356222951</td>\n",
              "      <td>3.934426</td>\n",
              "      <td>129.225330</td>\n",
              "      <td>0.035445</td>\n",
              "      <td>4.785113</td>\n",
              "      <td>0.035445</td>\n",
              "      <td>1.701374</td>\n",
              "      <td>0.319008</td>\n",
              "      <td>2.303943</td>\n",
              "      <td>1.134249</td>\n",
              "      <td>3.898981</td>\n",
              "      <td>5.777581</td>\n",
              "      <td>5.292208</td>\n",
              "      <td>24.932504</td>\n",
              "      <td>1.000469e+06</td>\n",
              "      <td>4001.256219</td>\n",
              "      <td>0.0</td>\n",
              "    </tr>\n",
              "    <tr>\n",
              "      <th>11184</th>\n",
              "      <td>1KME7062N10373</td>\n",
              "      <td>4</td>\n",
              "      <td>3</td>\n",
              "      <td>7</td>\n",
              "      <td>1</td>\n",
              "      <td>0</td>\n",
              "      <td>1</td>\n",
              "      <td>1</td>\n",
              "      <td>1KME7062N10373</td>\n",
              "      <td>0.133467</td>\n",
              "      <td>0</td>\n",
              "      <td>0.834168</td>\n",
              "      <td>6.872428</td>\n",
              "      <td>0.700701</td>\n",
              "      <td>1.167835</td>\n",
              "      <td>0.000000</td>\n",
              "      <td>0.367034</td>\n",
              "      <td>0.000000</td>\n",
              "      <td>0.033367</td>\n",
              "      <td>0.734067</td>\n",
              "      <td>0.500501</td>\n",
              "      <td>1.001001</td>\n",
              "      <td>1.008732</td>\n",
              "      <td>1.257151</td>\n",
              "      <td>1.000447e+06</td>\n",
              "      <td>4001.219906</td>\n",
              "      <td>0.0</td>\n",
              "    </tr>\n",
              "    <tr>\n",
              "      <th>11185</th>\n",
              "      <td>1KME7062N10383</td>\n",
              "      <td>8</td>\n",
              "      <td>7</td>\n",
              "      <td>15</td>\n",
              "      <td>3</td>\n",
              "      <td>0</td>\n",
              "      <td>1</td>\n",
              "      <td>1</td>\n",
              "      <td>1KME7062N10383</td>\n",
              "      <td>0.000000</td>\n",
              "      <td>0</td>\n",
              "      <td>0.000000</td>\n",
              "      <td>21.908942</td>\n",
              "      <td>0.136302</td>\n",
              "      <td>3.271240</td>\n",
              "      <td>0.954112</td>\n",
              "      <td>4.225352</td>\n",
              "      <td>0.000000</td>\n",
              "      <td>0.749659</td>\n",
              "      <td>1.294866</td>\n",
              "      <td>2.930486</td>\n",
              "      <td>2.044525</td>\n",
              "      <td>2.646405</td>\n",
              "      <td>4.958339</td>\n",
              "      <td>1.000455e+06</td>\n",
              "      <td>4001.230453</td>\n",
              "      <td>0.0</td>\n",
              "    </tr>\n",
              "    <tr>\n",
              "      <th>11186</th>\n",
              "      <td>1KME7062N10384</td>\n",
              "      <td>9</td>\n",
              "      <td>8</td>\n",
              "      <td>17</td>\n",
              "      <td>3</td>\n",
              "      <td>0</td>\n",
              "      <td>1</td>\n",
              "      <td>1</td>\n",
              "      <td>1KME7062N10384</td>\n",
              "      <td>0.000000</td>\n",
              "      <td>0</td>\n",
              "      <td>0.000000</td>\n",
              "      <td>21.908942</td>\n",
              "      <td>0.136302</td>\n",
              "      <td>3.271240</td>\n",
              "      <td>0.954112</td>\n",
              "      <td>4.225352</td>\n",
              "      <td>0.000000</td>\n",
              "      <td>0.749659</td>\n",
              "      <td>1.294866</td>\n",
              "      <td>2.930486</td>\n",
              "      <td>2.044525</td>\n",
              "      <td>2.646405</td>\n",
              "      <td>4.958339</td>\n",
              "      <td>1.000456e+06</td>\n",
              "      <td>4001.231476</td>\n",
              "      <td>0.0</td>\n",
              "    </tr>\n",
              "    <tr>\n",
              "      <th>11187</th>\n",
              "      <td>1KME7063N10373</td>\n",
              "      <td>0</td>\n",
              "      <td>0</td>\n",
              "      <td>0</td>\n",
              "      <td>0</td>\n",
              "      <td>0</td>\n",
              "      <td>1</td>\n",
              "      <td>1</td>\n",
              "      <td>1KME7063N10373</td>\n",
              "      <td>0.000000</td>\n",
              "      <td>0</td>\n",
              "      <td>0.000000</td>\n",
              "      <td>0.000000</td>\n",
              "      <td>0.000000</td>\n",
              "      <td>0.000000</td>\n",
              "      <td>0.000000</td>\n",
              "      <td>0.000000</td>\n",
              "      <td>0.000000</td>\n",
              "      <td>0.000000</td>\n",
              "      <td>0.000000</td>\n",
              "      <td>0.000000</td>\n",
              "      <td>0.000000</td>\n",
              "      <td>0.000000</td>\n",
              "      <td>0.000000</td>\n",
              "      <td>1.000436e+06</td>\n",
              "      <td>4001.197428</td>\n",
              "      <td>0.0</td>\n",
              "    </tr>\n",
              "  </tbody>\n",
              "</table>\n",
              "<p>11188 rows × 27 columns</p>\n",
              "</div>"
            ],
            "text/plain": [
              "                ID_UNICO  MASC  FEM  ...          area    perimeter  Densid\n",
              "0      200ME70340N104332     0    0  ...  4.003364e+04   800.394844     0.0\n",
              "1      200ME70342N104332     0    0  ...  4.003354e+04   800.393884     0.0\n",
              "2      200ME70344N104332     0    0  ...  4.003346e+04   800.393018     0.0\n",
              "3      200ME70346N104332     0    0  ...  4.003334e+04   800.391849     0.0\n",
              "4      200ME70348N104332     0    0  ...  4.003322e+04   800.390680     0.0\n",
              "...                  ...   ...  ...  ...           ...          ...     ...\n",
              "11183     1KME7061N10386    15   14  ...  1.000469e+06  4001.256219     0.0\n",
              "11184     1KME7062N10373     4    3  ...  1.000447e+06  4001.219906     0.0\n",
              "11185     1KME7062N10383     8    7  ...  1.000455e+06  4001.230453     0.0\n",
              "11186     1KME7062N10384     9    8  ...  1.000456e+06  4001.231476     0.0\n",
              "11187     1KME7063N10373     0    0  ...  1.000436e+06  4001.197428     0.0\n",
              "\n",
              "[11188 rows x 27 columns]"
            ]
          },
          "metadata": {
            "tags": []
          },
          "execution_count": 128
        }
      ]
    },
    {
      "cell_type": "markdown",
      "metadata": {
        "id": "JIRmQ_5dXRwC"
      },
      "source": [
        "## Exploratory Data Analysis"
      ]
    },
    {
      "cell_type": "markdown",
      "metadata": {
        "id": "4AIjVINvWYiy"
      },
      "source": [
        "Analise Exploratória dos dados Link"
      ]
    },
    {
      "cell_type": "markdown",
      "metadata": {
        "id": "lIsVMEHvXzMa"
      },
      "source": [
        "# Normalization of the Geospatial Vector Data aggregated to the Statistical Grid;"
      ]
    },
    {
      "cell_type": "code",
      "metadata": {
        "colab": {
          "base_uri": "https://localhost:8080/",
          "height": 422
        },
        "id": "H0PzPwlfX6L6",
        "outputId": "84b7396d-5369-42d0-9a8d-2cf4c792ec53"
      },
      "source": [
        "import pandas as pd\r\n",
        "grid_norm=pd.read_csv('/content/grid_estastistico.csv')\r\n",
        "grid_norm"
      ],
      "execution_count": null,
      "outputs": [
        {
          "output_type": "execute_result",
          "data": {
            "text/html": [
              "<div>\n",
              "<style scoped>\n",
              "    .dataframe tbody tr th:only-of-type {\n",
              "        vertical-align: middle;\n",
              "    }\n",
              "\n",
              "    .dataframe tbody tr th {\n",
              "        vertical-align: top;\n",
              "    }\n",
              "\n",
              "    .dataframe thead th {\n",
              "        text-align: right;\n",
              "    }\n",
              "</style>\n",
              "<table border=\"1\" class=\"dataframe\">\n",
              "  <thead>\n",
              "    <tr style=\"text-align: right;\">\n",
              "      <th></th>\n",
              "      <th>ID_UNICO</th>\n",
              "      <th>MASC</th>\n",
              "      <th>FEM</th>\n",
              "      <th>POP</th>\n",
              "      <th>DOM_OCU</th>\n",
              "      <th>Count_</th>\n",
              "      <th>ocorr_2010</th>\n",
              "      <th>ocorr_2000</th>\n",
              "      <th>ID_UNICO_1</th>\n",
              "      <th>P_AGUA_10</th>\n",
              "      <th>P_ESG_10</th>\n",
              "      <th>P_LIXO_10</th>\n",
              "      <th>RNMPr_10</th>\n",
              "      <th>V1_10G</th>\n",
              "      <th>V3_10G</th>\n",
              "      <th>V4_10G</th>\n",
              "      <th>V5_10G</th>\n",
              "      <th>V7_10G</th>\n",
              "      <th>V8_10G</th>\n",
              "      <th>V21_10G</th>\n",
              "      <th>V22_10G</th>\n",
              "      <th>P_ALFC_10G</th>\n",
              "      <th>P_ALFP_10G</th>\n",
              "      <th>RPC_10G</th>\n",
              "      <th>area</th>\n",
              "      <th>perimeter</th>\n",
              "      <th>Densid</th>\n",
              "    </tr>\n",
              "  </thead>\n",
              "  <tbody>\n",
              "    <tr>\n",
              "      <th>0</th>\n",
              "      <td>200ME70340N104332</td>\n",
              "      <td>0</td>\n",
              "      <td>0</td>\n",
              "      <td>0</td>\n",
              "      <td>0</td>\n",
              "      <td>0</td>\n",
              "      <td>1</td>\n",
              "      <td>1</td>\n",
              "      <td>200ME70340N104332</td>\n",
              "      <td>0.000000</td>\n",
              "      <td>0</td>\n",
              "      <td>0.000000</td>\n",
              "      <td>0.000000</td>\n",
              "      <td>0.000000</td>\n",
              "      <td>0.000000</td>\n",
              "      <td>0.000000</td>\n",
              "      <td>0.000000</td>\n",
              "      <td>0.000000</td>\n",
              "      <td>0.000000</td>\n",
              "      <td>0.000000</td>\n",
              "      <td>0.000000</td>\n",
              "      <td>0.000000</td>\n",
              "      <td>0.000000</td>\n",
              "      <td>0.000000</td>\n",
              "      <td>4.003364e+04</td>\n",
              "      <td>800.394844</td>\n",
              "      <td>0.0</td>\n",
              "    </tr>\n",
              "    <tr>\n",
              "      <th>1</th>\n",
              "      <td>200ME70342N104332</td>\n",
              "      <td>0</td>\n",
              "      <td>0</td>\n",
              "      <td>0</td>\n",
              "      <td>0</td>\n",
              "      <td>0</td>\n",
              "      <td>1</td>\n",
              "      <td>1</td>\n",
              "      <td>200ME70342N104332</td>\n",
              "      <td>0.000000</td>\n",
              "      <td>0</td>\n",
              "      <td>0.000000</td>\n",
              "      <td>0.000000</td>\n",
              "      <td>0.000000</td>\n",
              "      <td>0.000000</td>\n",
              "      <td>0.000000</td>\n",
              "      <td>0.000000</td>\n",
              "      <td>0.000000</td>\n",
              "      <td>0.000000</td>\n",
              "      <td>0.000000</td>\n",
              "      <td>0.000000</td>\n",
              "      <td>0.000000</td>\n",
              "      <td>0.000000</td>\n",
              "      <td>0.000000</td>\n",
              "      <td>4.003354e+04</td>\n",
              "      <td>800.393884</td>\n",
              "      <td>0.0</td>\n",
              "    </tr>\n",
              "    <tr>\n",
              "      <th>2</th>\n",
              "      <td>200ME70344N104332</td>\n",
              "      <td>0</td>\n",
              "      <td>0</td>\n",
              "      <td>0</td>\n",
              "      <td>0</td>\n",
              "      <td>0</td>\n",
              "      <td>1</td>\n",
              "      <td>1</td>\n",
              "      <td>200ME70344N104332</td>\n",
              "      <td>0.000000</td>\n",
              "      <td>0</td>\n",
              "      <td>0.000000</td>\n",
              "      <td>0.000000</td>\n",
              "      <td>0.000000</td>\n",
              "      <td>0.000000</td>\n",
              "      <td>0.000000</td>\n",
              "      <td>0.000000</td>\n",
              "      <td>0.000000</td>\n",
              "      <td>0.000000</td>\n",
              "      <td>0.000000</td>\n",
              "      <td>0.000000</td>\n",
              "      <td>0.000000</td>\n",
              "      <td>0.000000</td>\n",
              "      <td>0.000000</td>\n",
              "      <td>4.003346e+04</td>\n",
              "      <td>800.393018</td>\n",
              "      <td>0.0</td>\n",
              "    </tr>\n",
              "    <tr>\n",
              "      <th>3</th>\n",
              "      <td>200ME70346N104332</td>\n",
              "      <td>0</td>\n",
              "      <td>0</td>\n",
              "      <td>0</td>\n",
              "      <td>0</td>\n",
              "      <td>0</td>\n",
              "      <td>1</td>\n",
              "      <td>1</td>\n",
              "      <td>200ME70346N104332</td>\n",
              "      <td>0.000000</td>\n",
              "      <td>0</td>\n",
              "      <td>0.000000</td>\n",
              "      <td>0.000000</td>\n",
              "      <td>0.000000</td>\n",
              "      <td>0.000000</td>\n",
              "      <td>0.000000</td>\n",
              "      <td>0.000000</td>\n",
              "      <td>0.000000</td>\n",
              "      <td>0.000000</td>\n",
              "      <td>0.000000</td>\n",
              "      <td>0.000000</td>\n",
              "      <td>0.000000</td>\n",
              "      <td>0.000000</td>\n",
              "      <td>0.000000</td>\n",
              "      <td>4.003334e+04</td>\n",
              "      <td>800.391849</td>\n",
              "      <td>0.0</td>\n",
              "    </tr>\n",
              "    <tr>\n",
              "      <th>4</th>\n",
              "      <td>200ME70348N104332</td>\n",
              "      <td>0</td>\n",
              "      <td>0</td>\n",
              "      <td>0</td>\n",
              "      <td>0</td>\n",
              "      <td>0</td>\n",
              "      <td>1</td>\n",
              "      <td>1</td>\n",
              "      <td>200ME70348N104332</td>\n",
              "      <td>0.000000</td>\n",
              "      <td>0</td>\n",
              "      <td>0.000000</td>\n",
              "      <td>0.000000</td>\n",
              "      <td>0.000000</td>\n",
              "      <td>0.000000</td>\n",
              "      <td>0.000000</td>\n",
              "      <td>0.000000</td>\n",
              "      <td>0.000000</td>\n",
              "      <td>0.000000</td>\n",
              "      <td>0.000000</td>\n",
              "      <td>0.000000</td>\n",
              "      <td>0.000000</td>\n",
              "      <td>0.000000</td>\n",
              "      <td>0.000000</td>\n",
              "      <td>4.003322e+04</td>\n",
              "      <td>800.390680</td>\n",
              "      <td>0.0</td>\n",
              "    </tr>\n",
              "    <tr>\n",
              "      <th>...</th>\n",
              "      <td>...</td>\n",
              "      <td>...</td>\n",
              "      <td>...</td>\n",
              "      <td>...</td>\n",
              "      <td>...</td>\n",
              "      <td>...</td>\n",
              "      <td>...</td>\n",
              "      <td>...</td>\n",
              "      <td>...</td>\n",
              "      <td>...</td>\n",
              "      <td>...</td>\n",
              "      <td>...</td>\n",
              "      <td>...</td>\n",
              "      <td>...</td>\n",
              "      <td>...</td>\n",
              "      <td>...</td>\n",
              "      <td>...</td>\n",
              "      <td>...</td>\n",
              "      <td>...</td>\n",
              "      <td>...</td>\n",
              "      <td>...</td>\n",
              "      <td>...</td>\n",
              "      <td>...</td>\n",
              "      <td>...</td>\n",
              "      <td>...</td>\n",
              "      <td>...</td>\n",
              "      <td>...</td>\n",
              "    </tr>\n",
              "    <tr>\n",
              "      <th>11183</th>\n",
              "      <td>1KME7061N10386</td>\n",
              "      <td>15</td>\n",
              "      <td>14</td>\n",
              "      <td>29</td>\n",
              "      <td>4</td>\n",
              "      <td>0</td>\n",
              "      <td>1</td>\n",
              "      <td>1</td>\n",
              "      <td>1KME7061N10386</td>\n",
              "      <td>0.957023</td>\n",
              "      <td>0,28356222951</td>\n",
              "      <td>3.934426</td>\n",
              "      <td>129.225330</td>\n",
              "      <td>0.035445</td>\n",
              "      <td>4.785113</td>\n",
              "      <td>0.035445</td>\n",
              "      <td>1.701374</td>\n",
              "      <td>0.319008</td>\n",
              "      <td>2.303943</td>\n",
              "      <td>1.134249</td>\n",
              "      <td>3.898981</td>\n",
              "      <td>5.777581</td>\n",
              "      <td>5.292208</td>\n",
              "      <td>24.932504</td>\n",
              "      <td>1.000469e+06</td>\n",
              "      <td>4001.256219</td>\n",
              "      <td>0.0</td>\n",
              "    </tr>\n",
              "    <tr>\n",
              "      <th>11184</th>\n",
              "      <td>1KME7062N10373</td>\n",
              "      <td>4</td>\n",
              "      <td>3</td>\n",
              "      <td>7</td>\n",
              "      <td>1</td>\n",
              "      <td>0</td>\n",
              "      <td>1</td>\n",
              "      <td>1</td>\n",
              "      <td>1KME7062N10373</td>\n",
              "      <td>0.133467</td>\n",
              "      <td>0</td>\n",
              "      <td>0.834168</td>\n",
              "      <td>6.872428</td>\n",
              "      <td>0.700701</td>\n",
              "      <td>1.167835</td>\n",
              "      <td>0.000000</td>\n",
              "      <td>0.367034</td>\n",
              "      <td>0.000000</td>\n",
              "      <td>0.033367</td>\n",
              "      <td>0.734067</td>\n",
              "      <td>0.500501</td>\n",
              "      <td>1.001001</td>\n",
              "      <td>1.008732</td>\n",
              "      <td>1.257151</td>\n",
              "      <td>1.000447e+06</td>\n",
              "      <td>4001.219906</td>\n",
              "      <td>0.0</td>\n",
              "    </tr>\n",
              "    <tr>\n",
              "      <th>11185</th>\n",
              "      <td>1KME7062N10383</td>\n",
              "      <td>8</td>\n",
              "      <td>7</td>\n",
              "      <td>15</td>\n",
              "      <td>3</td>\n",
              "      <td>0</td>\n",
              "      <td>1</td>\n",
              "      <td>1</td>\n",
              "      <td>1KME7062N10383</td>\n",
              "      <td>0.000000</td>\n",
              "      <td>0</td>\n",
              "      <td>0.000000</td>\n",
              "      <td>21.908942</td>\n",
              "      <td>0.136302</td>\n",
              "      <td>3.271240</td>\n",
              "      <td>0.954112</td>\n",
              "      <td>4.225352</td>\n",
              "      <td>0.000000</td>\n",
              "      <td>0.749659</td>\n",
              "      <td>1.294866</td>\n",
              "      <td>2.930486</td>\n",
              "      <td>2.044525</td>\n",
              "      <td>2.646405</td>\n",
              "      <td>4.958339</td>\n",
              "      <td>1.000455e+06</td>\n",
              "      <td>4001.230453</td>\n",
              "      <td>0.0</td>\n",
              "    </tr>\n",
              "    <tr>\n",
              "      <th>11186</th>\n",
              "      <td>1KME7062N10384</td>\n",
              "      <td>9</td>\n",
              "      <td>8</td>\n",
              "      <td>17</td>\n",
              "      <td>3</td>\n",
              "      <td>0</td>\n",
              "      <td>1</td>\n",
              "      <td>1</td>\n",
              "      <td>1KME7062N10384</td>\n",
              "      <td>0.000000</td>\n",
              "      <td>0</td>\n",
              "      <td>0.000000</td>\n",
              "      <td>21.908942</td>\n",
              "      <td>0.136302</td>\n",
              "      <td>3.271240</td>\n",
              "      <td>0.954112</td>\n",
              "      <td>4.225352</td>\n",
              "      <td>0.000000</td>\n",
              "      <td>0.749659</td>\n",
              "      <td>1.294866</td>\n",
              "      <td>2.930486</td>\n",
              "      <td>2.044525</td>\n",
              "      <td>2.646405</td>\n",
              "      <td>4.958339</td>\n",
              "      <td>1.000456e+06</td>\n",
              "      <td>4001.231476</td>\n",
              "      <td>0.0</td>\n",
              "    </tr>\n",
              "    <tr>\n",
              "      <th>11187</th>\n",
              "      <td>1KME7063N10373</td>\n",
              "      <td>0</td>\n",
              "      <td>0</td>\n",
              "      <td>0</td>\n",
              "      <td>0</td>\n",
              "      <td>0</td>\n",
              "      <td>1</td>\n",
              "      <td>1</td>\n",
              "      <td>1KME7063N10373</td>\n",
              "      <td>0.000000</td>\n",
              "      <td>0</td>\n",
              "      <td>0.000000</td>\n",
              "      <td>0.000000</td>\n",
              "      <td>0.000000</td>\n",
              "      <td>0.000000</td>\n",
              "      <td>0.000000</td>\n",
              "      <td>0.000000</td>\n",
              "      <td>0.000000</td>\n",
              "      <td>0.000000</td>\n",
              "      <td>0.000000</td>\n",
              "      <td>0.000000</td>\n",
              "      <td>0.000000</td>\n",
              "      <td>0.000000</td>\n",
              "      <td>0.000000</td>\n",
              "      <td>1.000436e+06</td>\n",
              "      <td>4001.197428</td>\n",
              "      <td>0.0</td>\n",
              "    </tr>\n",
              "  </tbody>\n",
              "</table>\n",
              "<p>11188 rows × 27 columns</p>\n",
              "</div>"
            ],
            "text/plain": [
              "                ID_UNICO  MASC  FEM  ...          area    perimeter  Densid\n",
              "0      200ME70340N104332     0    0  ...  4.003364e+04   800.394844     0.0\n",
              "1      200ME70342N104332     0    0  ...  4.003354e+04   800.393884     0.0\n",
              "2      200ME70344N104332     0    0  ...  4.003346e+04   800.393018     0.0\n",
              "3      200ME70346N104332     0    0  ...  4.003334e+04   800.391849     0.0\n",
              "4      200ME70348N104332     0    0  ...  4.003322e+04   800.390680     0.0\n",
              "...                  ...   ...  ...  ...           ...          ...     ...\n",
              "11183     1KME7061N10386    15   14  ...  1.000469e+06  4001.256219     0.0\n",
              "11184     1KME7062N10373     4    3  ...  1.000447e+06  4001.219906     0.0\n",
              "11185     1KME7062N10383     8    7  ...  1.000455e+06  4001.230453     0.0\n",
              "11186     1KME7062N10384     9    8  ...  1.000456e+06  4001.231476     0.0\n",
              "11187     1KME7063N10373     0    0  ...  1.000436e+06  4001.197428     0.0\n",
              "\n",
              "[11188 rows x 27 columns]"
            ]
          },
          "metadata": {
            "tags": []
          },
          "execution_count": 6
        }
      ]
    },
    {
      "cell_type": "markdown",
      "metadata": {
        "id": "ReWxQMBcgUKi"
      },
      "source": [
        "**Normalization and rasterization for pixel was based on these tables.**\r\n"
      ]
    },
    {
      "cell_type": "markdown",
      "metadata": {
        "id": "s8ixvoLkg-7C"
      },
      "source": [
        "<img src=\"https://i.ibb.co/BNQF7zw/Normaliza-o.jpg\" alt=\"Normaliza-o\" border=\"0\">"
      ]
    },
    {
      "cell_type": "markdown",
      "metadata": {
        "id": "gil1NVL-tMAj"
      },
      "source": [
        "We will present some examples"
      ]
    },
    {
      "cell_type": "markdown",
      "metadata": {
        "id": "0FwT9hGvpub7"
      },
      "source": [
        "**Maps of Percentage of DPPs rented**\r\n",
        "\r\n",
        "<img src=\"https://i.ibb.co/Bz1HC4N/Percentage-of-DPPs-rented.png\" alt=\"Percentage-of-DPPs-rented\" border=\"0\">"
      ]
    },
    {
      "cell_type": "markdown",
      "metadata": {
        "id": "8Zf7ik6As7sE"
      },
      "source": [
        "**Percentage of DPPs with garbage collected by cleaning service.**\r\n",
        "\r\n",
        "<img src=\"https://i.ibb.co/yS6gdqd/Irregular-Occupations-on-the-Highway-Domain-Range-x-Percentage-of-DPPs-with-garbage-collected-by-cle.png\" alt=\"Irregular-Occupations-on-the-Highway-Domain-Range-x-Percentage-of-DPPs-with-garbage-collected-by-cle\" border=\"0\">"
      ]
    }
  ]
}